





# lenh 1 - xuat chu
print("Hello, Python World!")





!python ex0_hello_world.py


%run ex0_hello_world.py





%run ex1_calc.py


print("Calculator Basic")
a = int(input("Moi ban nhap so a:"))
b = int(input("Moi ban nhap so b:"))
c = a + b
print("c = %d + %d = %d" % (a, b, c))





%run ex3_circle.py



