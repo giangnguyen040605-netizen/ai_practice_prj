








print("Whoever is happy will make others happy too");
print("--Anne Frank");





# Nhập dữ liệu
a = int(input("Moi ban nhap so a: "))
b = int(input("Moi ban nhap so b: "))
# Xử lý
kqCong = a + b
kqTru = a - b
kqNhan = a * b
kqChiaNguyen = a // b
kqDu= a % b
kqChiaThuc = a / b
# Xuất dữ liệu
print("Cac ket qua tinh toan: ")
print("%-5d + %5d = %5d"%(a, b, kqCong))
print("%-5d - %5d = %5d"%(a, b, kqTru))
print("%-5d * %5d = %5d"%(a, b, kqNhan))
print("%-5d / %5d = %5d"%(a, b, kqChiaNguyen))
print("%-5d / %5d = %5d"%(a, b, kqDu))
print("%-5d / %5d = %5.2f"%(a, b, kqChiaThuc))





# Nhập dữ liệu
a = float(input("Moi ban nhap so a: "))
b = float(input("Moi ban nhap so b: "))
# Xử lý
laNhoHon = (a < b)
laNhoHonBang = (a <= b)
laLonHon = (a > b)
laLonHonBang = (a >= b)
laBang = (a == b)
laKhacNhau = (a != b)
# Xuất dữ liệu
print("Ket qua so sanh hai so thuc %.2f va %.2f:"%(a, b))
print("%-8.2f < %8.2f: %8s"%(a, b, laNhoHon))
print("%-8.2f <= %8.2f: %8s"%(a, b, laNhoHonBang))
print("%-8.2f > %8.2f: %8s"%(a, b, laLonHon))
print("%-8.2f >= %8.2f: %8s"%(a, b, laLonHonBang))
print("%-8.2f == %8.2f: %8s"%(a, b, laBang))
print("%-8.2f != %8.2f: %8s"%(a, b, laKhacNhau))






# Nạp thư viện
import math
# Nhập dữ liệu
x = float(input("Moi ban nhap vao gia tri cua bien so x: "))
# Xử lý
fx = x + math.pow(x, 5) / (1 * 2 * 3 * 4 * 5) + \
math.sqrt(abs(x)) / math.pow(x, 3.0 / 2)
# Xuất dữ liệu
print("Gia tri cua ham so f(%.2f) = %.2f."%(x, fx))





# Nhập số nguyên n có 4 chữ số
n = int(input("Nhập số nguyên n có 4 chữ số: "))

# Cách 1: Dùng phép chia lấy dư
tong = 0
so = n
while so > 0:
    tong += so % 10   # lấy chữ số cuối cùng
    so //= 10         # bỏ chữ số cuối

print("Tổng các chữ số của", n, "là:", tong)


# --- Cách 2: Dùng chuỗi (ngắn gọn hơn) ---
tong2 = sum(int(ch) for ch in str(n))
print("Tổng các chữ số (cách 2):", tong2)









print("**************************")
print("* Truong: Dai Hoc UEH    *")
print("* Khoa: CNTT             *")
print("* Ho ten:                *")
print("**************************")





# Nhập bán kính
R = float(input("Nhap ban kinh R: "))

# Tính diện tích và chu vi
S = 3.14 * R**2
P = 2 * 3.14 * R

# In kết quả với 1 chữ số thập phân
print(f"Dien tich S = {S:.1f}")
print(f"Chu vi P = {P:.1f}")





# Nhập thời gian
h = int(input("Nhap so gio: "))
m = int(input("Nhap so phut: "))
s = int(input("Nhap so giay: "))

# Tính tổng số giây
tong_giay = h * 3600 + m * 60 + s

# In kết quả
print(f"Tong so giay cua {h}:{m}:{s} la {tong_giay} giay")





# Nhập vào tổng số giây
t = int(input("Nhap vao tong so giay: "))

# Tính số giờ, phút, giây
h = t // 3600              # số giờ
m = (t % 3600) // 60       # số phút
s = t % 60                 # số giây

# In kết quả
print(f"{t} giay co dang {h}:{m}:{s}")





import math

# Nhập độ dài các cạnh
a = float(input("Nhap do dai canh a: "))
b = float(input("Nhap do dai canh b: "))
c = float(input("Nhap do dai canh c: "))

# Tính nửa chu vi
p = (a + b + c) / 2

# Kiểm tra điều kiện tam giác trước khi tính
if a + b > c and a + c > b and b + c > a:
    S = math.sqrt(p * (p - a) * (p - b) * (p - c))
    print(f"Dien tich tam giac S = {S:.2f}")
else:
    print("Ba canh khong tao thanh mot tam giac hop le.")





# Nhập dữ liệu
a = float(input("Nhap so thuc a: "))
n = int(input("Nhap so mu n: "))

# Tính a^n
ket_qua = a ** n

# In kết quả
print(f"Ket qua {a}^{n} = {ket_qua}")





# Nhập số nguyên có 4 chữ số
x = int(input("Nhap so nguyen x (4 chu so): "))

# Dùng chuỗi
y = int(str(x)[::-1])
print(f"So dao cua {x} la {y}")





import math

# Nhập góc (độ)
degree = float(input("Nhap goc (do): "))

# Đổi sang radian
radian = degree * math.pi / 180

# In kết quả
print(f"{degree} do = {radian:.4f} radian")





import math

x = float(input("Nhap gia tri x: "))

# Tính y1 và y2
y1 = 4 * (x**2 + 10*x*math.sqrt(x) + 3*x + 1)
y2 = (math.sin(math.pi * x**2) + math.sqrt(x**2 + 1)) / (math.exp(2*x) + math.cos((math.pi/4)*x))

# In kết quả (làm tròn 2 số lẻ)
print(f"y1 = {y1:.2f}")
print(f"y2 = {y2:.2f}")





import math

x1 = float(input("Nhap x1: "))
y1 = float(input("Nhap y1: "))
x2 = float(input("Nhap x2: "))
y2 = float(input("Nhap y2: "))

# Tính khoảng cách
d = math.sqrt((x2 - x1)**2 + (y2 - y1)**2)

# In kết quả
print(f"Khoang cach giua A({x1},{y1}) va B({x2},{y2}) la: {d:.2f}")



