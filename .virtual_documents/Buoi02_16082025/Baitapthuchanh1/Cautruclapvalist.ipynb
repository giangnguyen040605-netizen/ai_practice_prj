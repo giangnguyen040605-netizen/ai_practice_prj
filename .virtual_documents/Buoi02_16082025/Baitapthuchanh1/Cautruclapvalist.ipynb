





A = ['3', '27', '5', '123', '9', '1']

# string compare (theo thứ tự từ điển)
string_sorted = sorted(A)

# integer compare (theo giá trị số nguyên)
integer_sorted = sorted(A, key=int)

print("String compare:", string_sorted)
print("Integer compare:", integer_sorted)





A = [12, 24, 35, 70, 88, 120, 155]
remove_index = [1, 2, 3, 6]   # vị trí cần xóa

result = [val for i, val in enumerate(A) if i not in remove_index]

print("Kết quả:", result)





A = [1, 2, 3, 1, 2, 5, 6, 7, 8]
B = []

for x in A:
    if x not in B:   # chỉ thêm nếu chưa có trong B
        B.append(x)

print("Danh sách sau khi xóa trùng:", B)





A = [1,1,1,1,2,2,2,2,3,3,4,5,5]
checked = []   # để lưu phần tử đã đếm

for x in A:
    if x not in checked:
        count = 0
        for y in A:
            if y == x:
                count += 1
        print(f"{x}: {count}")
        checked.append(x)



