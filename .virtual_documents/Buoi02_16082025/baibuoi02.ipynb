





print('Hello World')


# Future Value
pv = 100
r = 0.1
n = 7
fv = pv * ((1 + (r)) ** n)
print(round(fv, 2))


amount = 100
interest = 10 #10% = 0.01 * 10
years = 7

future_value = amount * ((1 + (0.01 * interest)) ** years)
print(round(future_value, 2))


# Python Function def
def getfv(pv, r, n):
  fv = pv * ((1 + (r)) ** n)
  return fv
fv = getfv(100, 0.1, 7)
print(round(fv, 2))


# Python if else
score = 80
if score >=60 :
  print("Pass")
else:
  print("Fail")


print("Hello World")


# comment


score = 80
if score >=60 :
   print("Pass")


# Python Variables
x = 2
price = 2.5
word = 'Hello'
word = 'Hello'
word = "Hello"
word = '''Hello'''


x = 2
y = x + 1


# comment
from platform import python_version
print("Python Version:", python_version())


x = "Hello World" #str
x = 2 #int
x = 2.5 #float
x = 7j #complex


x = ["apple", "banana", "cherry"] #list
x = ("apple", "banana", "cherry") #tuple
x = range(6) #range
x = {"name" : "Tom", "age" : 20} #dict
x = {"apple", "banana", "cherry"} #set
x = frozenset({"apple", "banana", "cherry"})
#frozenset


x = True #bool
x = b"Hello" #bytes
x = bytearray(5) #bytearray
x = memoryview(bytes(5)) #memoryview
x = None #NoneType


x = str(3) # x will be '3'
y = int(3) # y will be 3
z = float(3) # z will be 3.0
print(x, type(x))
print(y, type(y))
print(z, type(z))



x = 2 # int
y = 3.4 # float
z = 7j #complex
print(x, type(x))
print(y, type(y))
print(z, type(z))


print('7 + 2 =', 7 + 2)
print('7 - 2 =', 7 - 2)
print('7 * 2 =', 7 * 2)
print('7 / 2 =', 7 / 2)
print('7 // 2 =', 7 // 2)
print('7 % 2 =', 7 % 2)
print('7 ** 2 =', 7 ** 2)


# Python Booleans: True or False
print(3 > 2)
print(3 == 2)
print(3 < 2)


# BMI Calculator in Python
height_cm = 170
weight_kg = 60
height_m = height_cm/100
BMI = (weight_kg/(height_m**2))
print("Your BMI is: " + str(round(BMI,1)))


# How much is your $100 worth after 7 years?
fv = 100 * 1.1 ** 7
print('fv = ', round(fv, 2))
# output = 194.87


# Future Value
pv = 100
r = 0.1
n = 7
fv = pv * ((1 + (r)) ** n)
print(round(fv, 2))


# Future Value
amount = 100
interest = 10 #10% = 0.01 * 10
years = 7
future_value = amount * ((1 + (0.01 * interest)) ** years)
print(round(future_value, 2))





x = ["apple", "banana", "cherry"] #list
x = ("apple", "banana", "cherry") #tuple
x = {"name" : "Tom", "age" : 20} #dict
x = {"apple", "banana", "cherry"} #set


x = [60, 70, 80, 90]
print(len(x))
print(x[0])
print(x[1])
print(x[-1])


x = (10, 20, 30, 40, 50)
print(x[0])
print(x[1])
print(x[2])
print(x[-1])


animals = {'cat', 'dog'}
print('cat' in animals)
print('fish' in animals)
animals.add('fish')
print('fish' in animals)
print(len(animals))
animals.add('cat')
print(len(animals))
animals.remove('cat')
print(len(animals))


# dictionary
k = { 'EN':'English','FR':'French' }
print(k['EN'])


fruits = ["apple", "banana", "cherry"] #lists []
colors = ("red", "green", "blue") #tuples ()
animals = {'cat', 'dog'} #sets {}
person = {"name" : "Tom", "age" : 20} #dictionaries {}


# lists
expenses = [72.50, 80.75, 50.00, 90.25]
total_expenses = sum(expenses)
print("Total expenses:", total_expenses)


# tuples
accounts = (("Cash", 1001), ("Accounts Receivable", 1002),
("Inventory", 1003))
for account in accounts:
    print("Account name:", account[0], "Account number:", account[1])


# set
account_numbers = set([acc[1] for acc in accounts]) #set comprehensive
print(account_numbers)
new_acc_number = 1004
if new_acc_number not in account_numbers:
  print(f'Account number {new_acc_number} is not in use')


# dictionary
accounts = {
    "1001": {"name": "Cash", "balance": 500.0, "type": "Asset"},
    "1002": {"name": "Account Receivable", "balance": 1000.0, "type": "Asset"},
    "1003": {"name": "Account Payable", "balance": 750.0, "type": "Liability"}
}

for acc_num, acc_info in accounts.items():
  print('-'*50)
  print('Account Number: ', acc_num)

  print('Account Name: ', acc_info['name'])
  print('Account Balance: ', acc_info['balance'])
  print('Account Type: ', acc_info['type'])


# Python if
score = 80
if score >=60 :
   print("Pass")


# Python if else
score = 80
if score >=60 :
  print("Pass")
else:
  print("Fail")


score = 95
if score >= 90 :
  print("A")
elif score >=60 :
  print("Pass")
else:
  print("Fail")


# Python if elif else
score = 90
grade = ""
if score >=90:
  grade = "A"
elif score >= 80:
  grade = "B"
elif score >= 70:
  grade = "C"
elif score >= 60:
  grade = "D"
else:
  grade = "E"
print(grade)


#loop
for i in range(1,6):
  print(i, end = ' ')


# 2 loop
for i in range(1,10):
  for j in range(1,10):
     print(f'{i} * {j} = {i*j}')
  print('-'*50)


# while loops
age = 10
while age < 20:
  print(age)
  age = age + 1


# Python Function def
# indentation for blocks. four spaces
def getfv(pv, r, n):
   fv = pv * ((1 + (r)) ** n)
   return fv
fv = getfv(100, 0.1, 7)
print(round(fv, 2))


# Future Value
pv = 100
r = 0.1
n = 7
fv = pv * ((1 + (r)) ** n)
print(round(fv, 2))



# Future Value
amount = 100
interest = 10 #10% = 0.01 * 10
years = 7

future_value = amount * ((1 + (0.01 * interest)) ** years)
print(round(future_value, 2))


# Python Function def
# indentation for blocks. four spaces
def getfv(pv, r, n):
    fv = pv * ((1 + (r)) ** n)
    return fv
fv = getfv(100, 0.1, 7)
print(round(fv, 2))


# Python class
class MyClass:
 x = 5

c1 = MyClass()
print(c1.x)


class Person:
  def __init__(self, name, age):
   self.name = name
   self.age = age
p1 = Person("Alan", 20)

print(p1.name)
print(p1.age)


class Person:
  def __init__(self, name, age):
    self.name = name
    self.age = age
  def myfunc(self):
    print("Hello my name is " + self.name)

p1 = Person("Alan", 20)
p1.myfunc()


class Person:
  def __init__(self, name, age):
   self.name = name
   self.age = age
  def myfunc(self):
   print("Hello my name is " + self.name)

p1 = Person("Alan", 20)
p1.myfunc()
print(p1.name)
print(p1.age)


class Vehicle:
 name = ""
 kind = "car"
 color = ""
 value = 100.00

 def description(self):
   desc_str = "%s is a %s %s worth $%.2f." % (self.name, self.color, self.kind, self.value)
   return desc_str
   pass


car1 = Vehicle()
car1.name = "Fer"
car1.color = "red"
car1.kind = "convertible"
car1.value = 60000.00
car2 = Vehicle()
car2.name = "Jump"
car2.color = "blue"
car2.kind = "van"
car2.value = 10000.00
print(car1.description())
print(car1.name)
print(car2.description())
print(car2.name)


# mymodule.py
def greeting(name):
   print("Hello, " + name)
