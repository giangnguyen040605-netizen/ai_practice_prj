








import math

n = int(input("Nhập số nguyên dương n (>0): "))

# 1.1. Số đối xứng (palindrome)
if str(n) == str(n)[::-1]:
    print(n, "là số đối xứng")
else:
    print(n, "không phải số đối xứng")

# 1.2. Số chính phương
if int(math.sqrt(n))**2 == n:
    print(n, "là số chính phương")
else:
    print(n, "không phải số chính phương")

# 1.3. Số nguyên tố
def is_prime(x):
    if x < 2:
        return False
    for i in range(2, int(math.sqrt(x)) + 1):
        if x % i == 0:
            return False
    return True

if is_prime(n):
    print(n, "là số nguyên tố")
else:
    print(n, "không phải số nguyên tố")

# 1.4. Chữ số lớn nhất và nhỏ nhất
digits = [int(d) for d in str(n)]
print("Chữ số lớn nhất:", max(digits))
print("Chữ số nhỏ nhất:", min(digits))

# 1.5. Các chữ số tăng hay giảm
if digits == sorted(digits):
    print("Các chữ số tăng dần")
elif digits == sorted(digits, reverse=True):
    print("Các chữ số giảm dần")
else:
    print("Các chữ số không tăng/giảm hoàn toàn")





n = int(input("\nNhập n để tính toán: "))

# a. S = 1 + 2 + ... + n
S1 = sum(range(1, n+1))
print("a) S =", S1)

# b. S = 1^2 + 2^2 + ... + n^2
S2 = sum(i**2 for i in range(1, n+1))
print("b) S =", S2)

# c. S = 1 + 1/2 + ... + 1/n
S3 = sum(1/i for i in range(1, n+1))
print("c) S =", S3)

# d. S = 1*2*...*n
S4 = 1
for i in range(1, n+1):
    S4 *= i
print("d) S =", S4)

# e. S = 1! + 2! + ... + n!
S5 = 0
gt = 1
for i in range(1, n+1):
    gt *= i
    S5 += gt
print("e) S =", S5)





a, b, n = map(int, input("\nNhập a, b, n (a, b<n): ").split())
S = 0
for i in range(1, n):
    if i % a == 0 and i % b != 0:
        S += i
print("Tổng các số nhỏ hơn", n, "chia hết cho", a, "nhưng không chia hết cho", b, "=", S)





n = int(input("\nNhập n (0<n<50): "))
S = sum(i for i in range(2, n) if is_prime(i))
print("Tổng các số nguyên tố nhỏ hơn", n, "=", S)





import math

n = int(input("Nhập số nguyên dương n: "))
rev = int(str(n)[::-1])
print("Số đảo ngược là:", rev)





print("\nCác số thỏa điều kiện (tích = 2*lần tổng):")
for num in range(10, 100):
    a = num // 10  # chữ số hàng chục
    b = num % 10   # chữ số hàng đơn vị
    if a * b == 2 * (a + b):
        print(num, end=" ")





a, b = map(int, input("\n\nNhập 2 số nguyên dương a, b: ").split())
def gcd(x, y):
    while y != 0:
        x, y = y, x % y
    return x

print("Ước số chung lớn nhất của", a, "và", b, "là:", gcd(a, b))





n = int(input("\nNhập n để in dãy Fibonacci: "))
fibo = [1, 1]  # a0=1, a1=1
for i in range(2, n):
    fibo.append(fibo[-1] + fibo[-2])
print("Dãy Fibonacci:", fibo[:n])



