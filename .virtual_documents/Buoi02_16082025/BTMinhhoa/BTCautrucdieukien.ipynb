








num = int(input("Nhập một số: "))
if 1 <= num <= 9:
    words = ["một", "hai", "ba", "bốn", "năm", "sáu", "bảy", "tám", "chín"]
    print("Số bạn nhập là:", words[num-1])
else:
    print("Không đọc được số này!")





char = input("Nhập một chữ cái: ")
if char.islower():
    print("Chữ hoa:", char.upper())
elif char.isupper():
    print("Chữ thường:", char.lower())
else:
    print("Không phải chữ cái!")





a = float(input("Nhập a: "))
b = float(input("Nhập b: "))
if a == 0:
    if b == 0:
        print("Phương trình vô số nghiệm")
    else:
        print("Phương trình vô nghiệm")
else:
    x = -b / a
    print("Nghiệm của phương trình là:", x)





import math
a = float(input("Nhập a: "))
b = float(input("Nhập b: "))
c = float(input("Nhập c: "))

if a == 0:
    if b == 0:
        print("Phương trình vô nghiệm" if c != 0 else "Phương trình vô số nghiệm")
    else:
        print("Nghiệm:", -c/b)
else:
    delta = b**2 - 4*a*c
    if delta < 0:
        print("Phương trình vô nghiệm")
    elif delta == 0:
        print("Nghiệm kép:", -b/(2*a))
    else:
        x1 = (-b + math.sqrt(delta)) / (2*a)
        x2 = (-b - math.sqrt(delta)) / (2*a)
        print("Hai nghiệm:", x1, x2)





a, b, c, d = map(int, input("Nhập 4 số cách nhau bởi dấu cách: ").split())
print("Số nhỏ nhất là:", min(a, b, c, d))





nums = list(map(int, input("Nhập 4 số cách nhau bởi dấu cách: ").split()))
nums.sort()
print("Thứ tự tăng dần:", nums)





km = int(input("Nhập số km: "))
if km <= 0:
    print("Số km không hợp lệ")
else:
    if km == 1:
        cost = 15000
    elif km <= 5:
        cost = 15000 + (km-1)*13500
    else:
        cost = 15000 + 4*13500 + (km-5)*11000
    if km > 120:
        cost *= 0.9  # giảm 10%
    print("Tiền taxi phải trả:", int(cost), "VND")





month, year = map(int, input("Nhập tháng và năm: ").split())
if month in [1, 3, 5, 7, 8, 10, 12]:
    print("Tháng", month, "có 31 ngày")
elif month in [4, 6, 9, 11]:
    print("Tháng", month, "có 30 ngày")
elif month == 2:
    if (year % 400 == 0) or (year % 4 == 0 and year % 100 != 0):
        print("Tháng 2 có 29 ngày")
    else:
        print("Tháng 2 có 28 ngày")
else:
    print("Tháng không hợp lệ")





a, b, c = map(float, input("Nhập 3 cạnh tam giác: ").split())
if a+b>c and a+c>b and b+c>a:
    if a==b==c:
        print("Tam giác đều")
    elif a==b or b==c or a==c:
        print("Tam giác cân")
    elif a*a+b*b==c*c or a*a+c*c==b*b or b*b+c*c==a*a:
        print("Tam giác vuông")
    else:
        print("Tam giác thường")
else:
    print("Không phải tam giác")



