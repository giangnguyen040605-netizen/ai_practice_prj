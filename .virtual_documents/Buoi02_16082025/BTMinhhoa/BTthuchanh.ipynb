








## ham kiem tra so nguyen to
def ktsnt(n):
    if n < 2: # 0, 1 khong la so nguyen to
        return False
    for i in range(2, int(n**(0.5))+1): # can bac hai cua n
        if (n % i == 0):
            return False
    return True
### nhap vao so nguyen can kiem tra
a = int(input("Nhap vao so nguyen:"))
if ktsnt(a):
    print("%d la so nguyen to" % a)
else:
    print("%d khong la so nguyen to" % a)


### ham liek ke cac so nguyen to nho hon n
def lietkesnt(k):
    if k <= 2:
        print("khong co so nguyen to thoa yeu cau")
    else:
        for i in range(2,k):
            if ktsnt(i):
                print("%d " %i)
n = 20
lietkesnt(n)


### ham liet ke M
def lietkeMsnt(M):
    bien_dem = 0 # dem : tu 0 den M-1
    t = 2 # 0 va 1 khong la so nguyen to
    while(bien_dem < M):
        if ktsnt(t):
            print("%d " %t)
            bien_dem +=1
        t+=1
        
M=10
lietkeMsnt(M)





def insochan(M,N):
    for i in range (M+1,N):
        if i % 2 == 0 :
            print("%d " %i)
M = int(input("Nhap chan duoi:"))
N = int(input("Nhap chan tren:"))
insochan(M,N) 


def lietke1(M,N):
    for i in range(M,N+1):
        if (i%7==0) and (i%5!=0):
            print("%d " %i)
            
M = 99
N = 999
lietke1(M,N)


def lietke2(M,N):
    q = -1
    for i in range(M,N+1):
        if (i%9==0) and (i%7==0):
            q = i
            break
    return q
M = 64
N = 300
q = lietke2(M,N)
if (q == -1):
    print("khong co so thoa dieu kien")
else:
    print("%d " %q)





def Tinh(n):
    tong= 0
    dem = 0
    while(n>0):
        sodu = n%10
        tong = tong+sodu
        dem = dem+1
        n = n//10
        print(sodu)
    return tong,dem
a = int(input("Nhap n:"))
tong, sochuso = Tinh(a)
print("so luong chu so: %d" % sochuso)
print("tong cac chu so:%d" %tong)





def giaithua(n):
    if n == 1:
        return 1
    else:
        return (n * giaithua(n-1))
num = 5
print("Giai thừa của", num, "là", giaithua(num))





def power(a,b):
        if b==0:
            return 1
        elif a==0:
            return 0
        elif b==1:
            return a
        else:
            return a*power(a,b-1)
a = 2
b = 3
print(a,"^",b,"=", power(a,b))








def chieudaiChuoi(strl):
    count = 0 
    for char in strl:
        count += 1
    return count

ss = 'hello world ... !!!!'
print('chieu dai chuoi : {}'.format(chieudaiChuoi(ss)))
print('check len() function:', len(ss))





### TH 1: Dung split
test_string = "Tach chuoi dung split"
print("input: ", test_string)
temp = test_string.split()
print("tach tu:", temp)
res = len(temp)
print("The number of words in string are : ", str(res))


# TH2
test_string = "tach chuoi thanh tu"
if len(test_string) == 0 or (test_string.isspace()):
    print("The number of words in string are = ", 0)
else:
    total = 0
    test_string = test_string+ ' '
    for i in range(len(test_string)-1):
        if(test_string[i] != ' ' and test_string[i+1] == ' '):
            total = total + 1
    print("The number of words in string are", total)





test_string = " !! fdafdaf "
valid_symbols = "!@#$%^&*()_-+={}[]<>`/>,"
def dem_nguyenam_phuam(string):
    nguyenam = 0
    phuam = 0
    for char in string:
        if char !=' ' and char not in valid_symbols:
            if char in "aeiouAEIOU":
                nguyenam = nguyenam+1
            else:
                phuam = phuam+1
    return nguyenam, phuam


print(len(test_string))
v,c = dem_nguyenam_phuam(test_string)
print(v,c)


def dem_nguyenam_phuam2(string):
    nguyenam = 0
    phuam = 0
    for i in string:
        if i !=' ' and i not in valid_symbols:
            if(i=='a' or i=='e' or i=='i' or i=='o' or i=='u' or i=='A' or i=='E' or i=='I' or i=='O' or i=='U'): 
                nguyenam = nguyenam+1
            else:
                phuam = phuam+1
    return nguyenam, phuam


print(len(test_string))
v,c = dem_nguyenam_phuam(test_string)
print(v,c)








A = ['3', '27', '5', '123', '9', '1']
print("Input:", A)
StringSort = sorted(A)
print("StringSort:", StringSort)

def myintSort(a):
     return int(a)
INTSort = sorted(A,key=myintSort)
print("INTSort:", INTSort)





A = [12,24,35,70,88,120,155]
print("Input:", A)

indexR = [1,2,3,6]

B = [x for i,x in enumerate(A) if i not in indexR]
print("Sau khi Xoa:", B)





A = [1, 1, 1, 2, 2, 2, 3, 1, 2, 5, 6, 7, 8, 5, 6, 7]
print("Input:", A)
B = []
[B.append(x) for x in A if x not in B]
print("Output_1:", B)

newlist=[ii for n,ii in enumerate(A) if ii not in A[:n]]
print("Output_2:",newlist)

Newlist_set = list(set(A))
print("Output_3:",Newlist_set)

mylist = list(dict.fromkeys(A))
print("Output_4:", mylist)





A = [1,1,1,1,2,2,2,2,3,3,4,5,5]
# khong dung set va dicionary
e=[]
for i in range(len(A)):
    if A[i] not in e:
        e.append(A[i])
        print(A[i],":",A.count(A[i]),sep='',end =",")
print("\n")
# dung tap hop
b = [[x,A.count(x)] for x in set(A)]
print(b)
for i in range(len(b)):
    print(b[i][0],":",b[i][1],sep='',end =",")
print("\n")

# dung tu dien
d = {x:A.count(x) for x in A}
print(d)
# dung Counter()
import collections
ctr = collections.Counter(A)
print(ctr)



