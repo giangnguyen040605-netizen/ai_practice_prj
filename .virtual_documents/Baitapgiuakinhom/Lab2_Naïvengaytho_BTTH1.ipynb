














# Import thư viện
import numpy as np 
import pandas as pd 
from sklearn.model_selection import train_test_split 
from sklearn.feature_extraction.text import CountVectorizer 
from sklearn.naive_bayes import MultinomialNB 
from sklearn.metrics import accuracy_score, confusion_matrix, classification_report 


# Đọc dữ liệu
data = pd.read_csv('Customer_Behaviour.csv', encoding='latin-1') 
# Hiển thị 5 dòng đầu
data.head()





print(data.columns)


# Import LabelEncoder
from sklearn.preprocessing import LabelEncoder

# Mã hóa cột Gender: Male/Female -> 1/0
le = LabelEncoder()
data['Gender'] = le.fit_transform(data['Gender'])


print(data.head())





# Chia X (đặc trưng) và y (nhãn)
X = data.drop('Purchased', axis=1)   # Gender, Age, Salary
y = data['Purchased']                # Nhãn: Purchased


# Tách train/test (80/20)
X_train, X_test, y_train, y_test = train_test_split(
    X, y, test_size=0.2, random_state=42
)





# Khởi tạo mô hình Naïve Bayes (Gaussian)
from sklearn.naive_bayes import GaussianNB
model = GaussianNB()

# Huấn luyện
model.fit(X_train, y_train)

# Dự đoán
y_pred = model.predict(X_test)





# Độ chính xác
print("Accuracy:", accuracy_score(y_test, y_pred))

# Ma trận nhầm lẫn
print("Confusion Matrix:\n", confusion_matrix(y_test, y_pred))

# Báo cáo chi tiết
print("Classification Report:\n", classification_report(y_test, y_pred))






