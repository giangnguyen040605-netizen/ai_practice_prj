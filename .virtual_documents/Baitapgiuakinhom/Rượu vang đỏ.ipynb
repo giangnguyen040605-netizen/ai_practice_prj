








import pandas as pd  
import numpy as np  
import seaborn as sns  
import matplotlib.pyplot as plt  
from sklearn.preprocessing import LabelEncoder # for encoding
from sklearn.preprocessing import MinMaxScaler, RobustScaler, StandardScaler 
import plotly.express as px
import plotly.graph_objects as go
import plotly.io as pio
import scipy.stats as st

from sklearn.model_selection import train_test_split, GridSearchCV, cross_val_score
from sklearn.metrics import confusion_matrix, accuracy_score, classification_report
from sklearn.metrics import accuracy_score
from sklearn.metrics import roc_auc_score, roc_curve
from sklearn import model_selection
from sklearn.neighbors import KNeighborsClassifier
from sklearn.ensemble import GradientBoostingClassifier
#!pip install lightgbm






df = pd.read_csv("winequality-red.csv")  
df.info()






df.describe().T.style.background_gradient(cmap = "Oranges")









df.rename(columns = {"fixed acidity": "fixed_acidity", "volatile acidity": "volatile_acidity",
                    "citric acid": "citric_acid", "residual sugar": "residual_sugar",
                    "chlorides": "chlorides", "free sulfur dioxide": "free_sulfur_dioxide",
                    "total sulfur dioxide": "total_sulfur_dioxide"}, inplace = True)


sns.set(style="whitegrid", font_scale=2)





import matplotlib.pyplot as plt
import seaborn as sns

# Đặt style chung
sns.set(style="whitegrid", font_scale=1.2)

# Danh sách các biến và màu tương ứng
cols = [
    ("fixed_acidity", "#003366"),
    ("volatile_acidity", "#336699"),
    ("citric_acid", "#66B2FF"),
    ("alcohol", "#800000"),
    ("residual_sugar", "#CC3333"),
    ("chlorides", "#FF6666")
]

# Vẽ 3 biểu đồ mỗi lượt
for i in range(0, len(cols), 3):
    fig, axes = plt.subplots(1, 3, figsize=(18, 5))
    
    for ax, (col, color) in zip(axes, cols[i:i+3]):
        sns.histplot(data=df, x=col, bins=10, kde=True, color=color, ax=ax)
        ax.set_title(f"Distribution of '{col}'")
        ax.set_xlabel(col.replace("_", " ").title())
        ax.set_ylabel("Count")
    
    plt.tight_layout()
    plt.show()

