


import numpy as np
import pandas as pd
import matplotlib.pyplot as plt
%matplotlib inline
import seaborn as sns
from sklearn import datasets





wine = datasets.load_wine()
wine.keys()


# Load data about the rows and columns
feature_names = wine['feature_names']

# Load cultivar information about each wine
classification = wine['target']

# Gather all of this information into a DataFrame
wineDF = pd.DataFrame(wine['data'], columns=wine['feature_names'])

# add the "target" classifications as a new column
wineDF['classification'] = classification

# drop a bunch of boring columns

df = wineDF[['total_phenols', 'color_intensity', 'od280/od315_of_diluted_wines', 'classification']]
# Print the first 5 rows of the data, eq. to data[:5]
df.head()


fig, axs = plt.subplots(ncols=3, figsize=(18,6))
axs[0].scatter(wineDF['total_phenols'], wineDF['color_intensity'], c=wineDF['classification'])
axs[0].axis('equal')
axs[1].scatter(wineDF['total_phenols'], wineDF['od280/od315_of_diluted_wines'], c=wineDF['classification'])
axs[1].axis('equal')
axs[2].scatter(wineDF['color_intensity'], wineDF['od280/od315_of_diluted_wines'], c=wineDF['classification'])
axs[2].axis('equal')
plt.show()


import matplotlib.pyplot as plt
from mpl_toolkits.mplot3d import axes3d
fig = plt.figure()
ax = plt.axes(projection='3d')
zdata = 15 * np.random.random(200)
xdata = np.sin(zdata) + 0.1 * np.random.randn(200)
ydata = np.cos(zdata) + 0.1 * np.random.randn(200)
ax.scatter3D(wineDF['total_phenols'], wineDF['color_intensity'], wineDF['od280/od315_of_diluted_wines'], c=wineDF['classification']);
plt.show()


!pip install plotly


import plotly.express as px
fig = px.scatter_3d(wineDF, x='total_phenols', y='color_intensity', z='od280/od315_of_diluted_wines',  color='classification')
fig.show()


import plotly.express as px
df = px.data.iris()
fig = px.scatter_3d(df, x='sepal_length', y='sepal_width', z='petal_width',
              color='species')
fig.show()



