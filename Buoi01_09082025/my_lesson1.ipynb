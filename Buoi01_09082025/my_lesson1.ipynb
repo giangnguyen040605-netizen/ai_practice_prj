{
 "cells": [
  {
   "cell_type": "markdown",
   "id": "2d382f4d-8fd0-4456-9fef-4d05ecd50847",
   "metadata": {},
   "source": [
    "# Thực hành trí tuệ nhân tạo buổi 1\n",
    "\n",
    "## Nội dung thực hành"
   ]
  },
  {
   "cell_type": "markdown",
   "id": "06293e64-43ee-4d59-a252-fd6ff323fe47",
   "metadata": {},
   "source": [
    "### In chữ ra màn hình"
   ]
  },
  {
   "cell_type": "code",
   "execution_count": 2,
   "id": "6d934f36-dcda-4e5e-acd7-9a2a80e6689a",
   "metadata": {},
   "outputs": [
    {
     "name": "stdout",
     "output_type": "stream",
     "text": [
      "Hello, Python World!\n"
     ]
    }
   ],
   "source": [
    "# lenh 1 - xuat chu\n",
    "print(\"Hello, Python World!\")"
   ]
  },
  {
   "cell_type": "markdown",
   "id": "b08179bc-9420-4e4f-b7b4-0be519bd240b",
   "metadata": {},
   "source": [
    "### Chạy tập tin Python"
   ]
  },
  {
   "cell_type": "code",
   "execution_count": 6,
   "id": "fd3773fa-d608-4627-86d9-f0aaa5cc6f17",
   "metadata": {},
   "outputs": [
    {
     "name": "stdout",
     "output_type": "stream",
     "text": [
      "Hello, Python World!\n"
     ]
    }
   ],
   "source": [
    "!python ex0_hello_world.py"
   ]
  },
  {
   "cell_type": "code",
   "execution_count": 7,
   "id": "f42fd101-55ab-402c-a878-57f43dcbe682",
   "metadata": {},
   "outputs": [
    {
     "name": "stdout",
     "output_type": "stream",
     "text": [
      "Hello, Python World!\n"
     ]
    }
   ],
   "source": [
    "%run ex0_hello_world.py"
   ]
  },
  {
   "cell_type": "markdown",
   "id": "3398e795-b607-4b8a-b367-23455ed4ea27",
   "metadata": {},
   "source": [
    "### Tính toán đơn giản"
   ]
  },
  {
   "cell_type": "code",
   "execution_count": 9,
   "id": "a4189ca0-8856-4b00-b6a8-9dc4b9793b45",
   "metadata": {},
   "outputs": [
    {
     "name": "stdout",
     "output_type": "stream",
     "text": [
      "Calculator Basic\n"
     ]
    },
    {
     "name": "stdin",
     "output_type": "stream",
     "text": [
      "Moi ban nhap so a: 10\n",
      "Moi ban nhap so b: 20\n"
     ]
    },
    {
     "name": "stdout",
     "output_type": "stream",
     "text": [
      "c = 10 + 20 = 30\n"
     ]
    }
   ],
   "source": [
    "%run ex1_calc.py"
   ]
  },
  {
   "cell_type": "code",
   "execution_count": 10,
   "id": "dd3017d5-1857-460b-8c29-63ce6ca33856",
   "metadata": {},
   "outputs": [
    {
     "name": "stdout",
     "output_type": "stream",
     "text": [
      "Calculator Basic\n"
     ]
    },
    {
     "name": "stdin",
     "output_type": "stream",
     "text": [
      "Moi ban nhap so a: 10\n",
      "Moi ban nhap so b: 20\n"
     ]
    },
    {
     "name": "stdout",
     "output_type": "stream",
     "text": [
      "c = 10 + 20 = 30\n"
     ]
    }
   ],
   "source": [
    "print(\"Calculator Basic\")\n",
    "a = int(input(\"Moi ban nhap so a:\"))\n",
    "b = int(input(\"Moi ban nhap so b:\"))\n",
    "c = a + b\n",
    "print(\"c = %d + %d = %d\" % (a, b, c))"
   ]
  },
  {
   "cell_type": "markdown",
   "id": "8a2573a5-aa23-4647-8f38-b08dcda007f8",
   "metadata": {},
   "source": [
    "### Tính chu vi và diện tích hình tròn"
   ]
  },
  {
   "cell_type": "code",
   "execution_count": 3,
   "id": "cd31363b-c5bf-4913-917c-857c578954ff",
   "metadata": {},
   "outputs": [
    {
     "name": "stdin",
     "output_type": "stream",
     "text": [
      "Nhập bán kính hình tròn (r):  5\n"
     ]
    },
    {
     "name": "stdout",
     "output_type": "stream",
     "text": [
      "Chu vi hình tròn = 31.42\n",
      "Diện tích hình tròn = 78.54\n"
     ]
    }
   ],
   "source": [
    "%run ex3_circle.py"
   ]
  },
  {
   "cell_type": "markdown",
   "id": "03ffe508-88b5-406d-af44-adc13b775189",
   "metadata": {},
   "source": [
    "# Kết thúc"
   ]
  }
 ],
 "metadata": {
  "kernelspec": {
   "display_name": "Python [conda env:base] *",
   "language": "python",
   "name": "conda-base-py"
  },
  "language_info": {
   "codemirror_mode": {
    "name": "ipython",
    "version": 3
   },
   "file_extension": ".py",
   "mimetype": "text/x-python",
   "name": "python",
   "nbconvert_exporter": "python",
   "pygments_lexer": "ipython3",
   "version": "3.13.5"
  }
 },
 "nbformat": 4,
 "nbformat_minor": 5
}
