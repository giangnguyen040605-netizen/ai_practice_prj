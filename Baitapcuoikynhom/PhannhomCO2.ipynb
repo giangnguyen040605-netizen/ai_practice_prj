{
 "cells": [
  {
   "cell_type": "markdown",
   "id": "aa8f276f-9b6d-47ec-88d8-8173b730aec6",
   "metadata": {},
   "source": [
    "# Phân nhóm quốc gia theo mức phát thải CO₂ (Classification)"
   ]
  },
  {
   "cell_type": "markdown",
   "id": "68c4145c-f46d-4127-8d4d-d26e88e86f58",
   "metadata": {},
   "source": [
    "Mục tiêu: Tập trung phân loại các quốc gia theo mức phát thải CO₂ trong năm 2023, nhằm tạo một cái nhìn tổng quan về sự phân bố phát thải. Việc phân nhóm giúp nhận diện các quốc gia thuộc nhóm Low, Medium hoặc High, đồng thời làm cơ sở để phân tích các yếu tố kinh tế, dân số và năng lượng ảnh hưởng đến phát thải. "
   ]
  },
  {
   "cell_type": "markdown",
   "id": "7d8c580e-7a9a-4a72-9f94-8597b2ea56e2",
   "metadata": {},
   "source": [
    "### Bước 1: Import thư viện"
   ]
  },
  {
   "cell_type": "code",
   "execution_count": 237,
   "id": "a99b81b0-565a-48b5-b757-7f04ddb9d523",
   "metadata": {},
   "outputs": [],
   "source": [
    "# Import thư viện\n",
    "import pandas as pd\n",
    "import numpy as np\n",
    "\n",
    "from sklearn.model_selection import train_test_split, GridSearchCV\n",
    "from sklearn.pipeline import Pipeline\n",
    "from sklearn.preprocessing import StandardScaler\n",
    "from sklearn.impute import SimpleImputer\n",
    "from sklearn.metrics import accuracy_score, classification_report\n",
    "\n",
    "from sklearn.linear_model import LogisticRegression\n",
    "from sklearn.tree import DecisionTreeClassifier\n",
    "\n",
    "import matplotlib.pyplot as plt"
   ]
  },
  {
   "cell_type": "markdown",
   "id": "bead0fc2-6231-4408-95e9-1e200e3ec485",
   "metadata": {},
   "source": [
    "### Bước 2: Nhập dữ liệu và lựa chọn dữ liệu cho năm 2023"
   ]
  },
  {
   "cell_type": "markdown",
   "id": "7afa5049-d31d-47c9-8397-934100474637",
   "metadata": {},
   "source": [
    "Mục đích:\n",
    "Phân nhóm dựa trên lượng phát thải CO₂ năm 2023 để có snapshot cụ thể, tránh sự thay đổi lớn theo thời gian. Nếu dùng nhiều năm, các kỹ thuật supervised learning (Logistic Regression, Decision Tree, Random Forest) sẽ phức tạp hơn, phải xử lý trend và panel data."
   ]
  },
  {
   "cell_type": "code",
   "execution_count": 238,
   "id": "4005ba34-67fb-41fa-93e1-6235dc595fe2",
   "metadata": {},
   "outputs": [],
   "source": [
    "# Load dữ liệu\n",
    "df = pd.read_excel(\"DataCO2.xlsx\")"
   ]
  },
  {
   "cell_type": "code",
   "execution_count": 239,
   "id": "c0d53c29-1b4e-4392-b764-9474bb39a063",
   "metadata": {},
   "outputs": [],
   "source": [
    "# Chọn năm 2023\n",
    "df_2023 = df[df['year'] == 2023].copy()"
   ]
  },
  {
   "cell_type": "code",
   "execution_count": 240,
   "id": "3e65e553-e948-49b2-8675-a2f3d78036cb",
   "metadata": {},
   "outputs": [],
   "source": [
    "# Tạo target 3 nhóm theo co2 \n",
    "# Low: <=33%, Medium: 33-66%, High: >66%\n",
    "co2_quantiles = df_2023['co2'].quantile([0.33, 0.66])\n",
    "def co2_group(x):\n",
    "    if x <= co2_quantiles[0.33]:\n",
    "        return 0  # Low\n",
    "    elif x <= co2_quantiles[0.66]:\n",
    "        return 1  # Medium\n",
    "    else:\n",
    "        return 2  # High\n",
    "\n",
    "df_2023['co2_group'] = df_2023['co2'].apply(co2_group)"
   ]
  },
  {
   "cell_type": "code",
   "execution_count": 241,
   "id": "a3036c87-c871-4bbe-be6d-d2e24d816e45",
   "metadata": {},
   "outputs": [],
   "source": [
    "# Chọn features \n",
    "features = ['gdp','co2_per_gdp','population','co2_per_capita','cement_co2','coal_co2',\n",
    "            'oil_co2','gas_co2','flaring_co2','land_use_change_co2',\n",
    "            'primary_energy_consumption','temperature_change_from_co2']"
   ]
  },
  {
   "cell_type": "markdown",
   "id": "d662f5d8-963b-4298-8124-bf26044de89c",
   "metadata": {},
   "source": [
    "### Bước 3: Chuẩn bị và xử lý dữ liệu"
   ]
  },
  {
   "cell_type": "markdown",
   "id": "a8ece162-f1bc-44bd-9503-14ec86bde2ff",
   "metadata": {},
   "source": [
    "Mục đích:\n",
    "Chuẩn hóa dữ liệu trước khi đưa vào mô hình machine learning. Đảm bảo không còn NaN gây lỗi, và dữ liệu numeric ở cùng thang đo."
   ]
  },
  {
   "cell_type": "code",
   "execution_count": 242,
   "id": "715f59e1-4c59-49c2-aa62-a5cd02e811ab",
   "metadata": {},
   "outputs": [
    {
     "name": "stdout",
     "output_type": "stream",
     "text": [
      "<class 'pandas.core.frame.DataFrame'>\n",
      "Index: 253 entries, 5819 to 6071\n",
      "Data columns (total 20 columns):\n",
      " #   Column                       Non-Null Count  Dtype  \n",
      "---  ------                       --------------  -----  \n",
      " 0   Description                  253 non-null    object \n",
      " 1   Name                         253 non-null    object \n",
      " 2   year                         253 non-null    int64  \n",
      " 3   iso_code                     218 non-null    object \n",
      " 4   population                   230 non-null    float64\n",
      " 5   gdp                          0 non-null      float64\n",
      " 6   co2                          246 non-null    float64\n",
      " 7   co2_per_capita               181 non-null    float64\n",
      " 8   co2_per_gdp                  0 non-null      float64\n",
      " 9   co2_growth_abs               235 non-null    float64\n",
      " 10  co2_growth_prct              233 non-null    float64\n",
      " 11  cement_co2                   229 non-null    float64\n",
      " 12  coal_co2                     157 non-null    float64\n",
      " 13  flaring_co2                  236 non-null    float64\n",
      " 14  gas_co2                      149 non-null    float64\n",
      " 15  land_use_change_co2          214 non-null    float64\n",
      " 16  oil_co2                      233 non-null    float64\n",
      " 17  primary_energy_consumption   90 non-null     float64\n",
      " 18  temperature_change_from_co2  236 non-null    float64\n",
      " 19  co2_group                    253 non-null    int64  \n",
      "dtypes: float64(15), int64(2), object(3)\n",
      "memory usage: 41.5+ KB\n"
     ]
    },
    {
     "data": {
      "text/html": [
       "<div>\n",
       "<style scoped>\n",
       "    .dataframe tbody tr th:only-of-type {\n",
       "        vertical-align: middle;\n",
       "    }\n",
       "\n",
       "    .dataframe tbody tr th {\n",
       "        vertical-align: top;\n",
       "    }\n",
       "\n",
       "    .dataframe thead th {\n",
       "        text-align: right;\n",
       "    }\n",
       "</style>\n",
       "<table border=\"1\" class=\"dataframe\">\n",
       "  <thead>\n",
       "    <tr style=\"text-align: right;\">\n",
       "      <th></th>\n",
       "      <th>gdp</th>\n",
       "      <th>co2_per_gdp</th>\n",
       "      <th>population</th>\n",
       "      <th>co2_per_capita</th>\n",
       "      <th>cement_co2</th>\n",
       "      <th>coal_co2</th>\n",
       "      <th>oil_co2</th>\n",
       "      <th>gas_co2</th>\n",
       "      <th>flaring_co2</th>\n",
       "      <th>land_use_change_co2</th>\n",
       "      <th>primary_energy_consumption</th>\n",
       "      <th>temperature_change_from_co2</th>\n",
       "    </tr>\n",
       "  </thead>\n",
       "  <tbody>\n",
       "    <tr>\n",
       "      <th>count</th>\n",
       "      <td>0.0</td>\n",
       "      <td>0.0</td>\n",
       "      <td>2.300000e+02</td>\n",
       "      <td>181.000000</td>\n",
       "      <td>229.000000</td>\n",
       "      <td>157.000000</td>\n",
       "      <td>233.000000</td>\n",
       "      <td>149.000000</td>\n",
       "      <td>236.000000</td>\n",
       "      <td>214.000000</td>\n",
       "      <td>90.00000</td>\n",
       "      <td>236.000000</td>\n",
       "    </tr>\n",
       "    <tr>\n",
       "      <th>mean</th>\n",
       "      <td>NaN</td>\n",
       "      <td>NaN</td>\n",
       "      <td>1.506399e+08</td>\n",
       "      <td>8.274884</td>\n",
       "      <td>30.054961</td>\n",
       "      <td>421.104790</td>\n",
       "      <td>229.718262</td>\n",
       "      <td>254.560946</td>\n",
       "      <td>8.292640</td>\n",
       "      <td>81.762131</td>\n",
       "      <td>7684.98490</td>\n",
       "      <td>0.025665</td>\n",
       "    </tr>\n",
       "    <tr>\n",
       "      <th>std</th>\n",
       "      <td>NaN</td>\n",
       "      <td>NaN</td>\n",
       "      <td>7.100382e+08</td>\n",
       "      <td>5.865403</td>\n",
       "      <td>157.719847</td>\n",
       "      <td>1919.033162</td>\n",
       "      <td>1027.098777</td>\n",
       "      <td>884.686696</td>\n",
       "      <td>35.455604</td>\n",
       "      <td>343.232272</td>\n",
       "      <td>23653.51097</td>\n",
       "      <td>0.105105</td>\n",
       "    </tr>\n",
       "    <tr>\n",
       "      <th>min</th>\n",
       "      <td>NaN</td>\n",
       "      <td>NaN</td>\n",
       "      <td>5.010000e+02</td>\n",
       "      <td>1.604000</td>\n",
       "      <td>0.000000</td>\n",
       "      <td>0.000000</td>\n",
       "      <td>0.008000</td>\n",
       "      <td>0.000000</td>\n",
       "      <td>0.000000</td>\n",
       "      <td>-296.574000</td>\n",
       "      <td>32.09600</td>\n",
       "      <td>0.000000</td>\n",
       "    </tr>\n",
       "    <tr>\n",
       "      <th>25%</th>\n",
       "      <td>NaN</td>\n",
       "      <td>NaN</td>\n",
       "      <td>1.172340e+06</td>\n",
       "      <td>2.169000</td>\n",
       "      <td>0.000000</td>\n",
       "      <td>0.449000</td>\n",
       "      <td>1.232000</td>\n",
       "      <td>1.570000</td>\n",
       "      <td>0.000000</td>\n",
       "      <td>-0.067000</td>\n",
       "      <td>298.34475</td>\n",
       "      <td>0.000000</td>\n",
       "    </tr>\n",
       "    <tr>\n",
       "      <th>50%</th>\n",
       "      <td>NaN</td>\n",
       "      <td>NaN</td>\n",
       "      <td>8.062762e+06</td>\n",
       "      <td>8.095000</td>\n",
       "      <td>0.682000</td>\n",
       "      <td>4.123000</td>\n",
       "      <td>7.378000</td>\n",
       "      <td>9.968000</td>\n",
       "      <td>0.000000</td>\n",
       "      <td>1.288500</td>\n",
       "      <td>700.44650</td>\n",
       "      <td>0.001000</td>\n",
       "    </tr>\n",
       "    <tr>\n",
       "      <th>75%</th>\n",
       "      <td>NaN</td>\n",
       "      <td>NaN</td>\n",
       "      <td>3.383119e+07</td>\n",
       "      <td>11.092000</td>\n",
       "      <td>3.681000</td>\n",
       "      <td>44.853000</td>\n",
       "      <td>37.210000</td>\n",
       "      <td>82.696000</td>\n",
       "      <td>0.994000</td>\n",
       "      <td>14.408500</td>\n",
       "      <td>2391.98575</td>\n",
       "      <td>0.004000</td>\n",
       "    </tr>\n",
       "    <tr>\n",
       "      <th>max</th>\n",
       "      <td>NaN</td>\n",
       "      <td>NaN</td>\n",
       "      <td>8.091735e+09</td>\n",
       "      <td>20.853000</td>\n",
       "      <td>1569.346000</td>\n",
       "      <td>15401.220000</td>\n",
       "      <td>12208.835000</td>\n",
       "      <td>7900.098000</td>\n",
       "      <td>410.940000</td>\n",
       "      <td>3624.905000</td>\n",
       "      <td>172119.06200</td>\n",
       "      <td>1.161000</td>\n",
       "    </tr>\n",
       "  </tbody>\n",
       "</table>\n",
       "</div>"
      ],
      "text/plain": [
       "       gdp  co2_per_gdp    population  co2_per_capita   cement_co2  \\\n",
       "count  0.0          0.0  2.300000e+02      181.000000   229.000000   \n",
       "mean   NaN          NaN  1.506399e+08        8.274884    30.054961   \n",
       "std    NaN          NaN  7.100382e+08        5.865403   157.719847   \n",
       "min    NaN          NaN  5.010000e+02        1.604000     0.000000   \n",
       "25%    NaN          NaN  1.172340e+06        2.169000     0.000000   \n",
       "50%    NaN          NaN  8.062762e+06        8.095000     0.682000   \n",
       "75%    NaN          NaN  3.383119e+07       11.092000     3.681000   \n",
       "max    NaN          NaN  8.091735e+09       20.853000  1569.346000   \n",
       "\n",
       "           coal_co2       oil_co2      gas_co2  flaring_co2  \\\n",
       "count    157.000000    233.000000   149.000000   236.000000   \n",
       "mean     421.104790    229.718262   254.560946     8.292640   \n",
       "std     1919.033162   1027.098777   884.686696    35.455604   \n",
       "min        0.000000      0.008000     0.000000     0.000000   \n",
       "25%        0.449000      1.232000     1.570000     0.000000   \n",
       "50%        4.123000      7.378000     9.968000     0.000000   \n",
       "75%       44.853000     37.210000    82.696000     0.994000   \n",
       "max    15401.220000  12208.835000  7900.098000   410.940000   \n",
       "\n",
       "       land_use_change_co2  primary_energy_consumption  \\\n",
       "count           214.000000                    90.00000   \n",
       "mean             81.762131                  7684.98490   \n",
       "std             343.232272                 23653.51097   \n",
       "min            -296.574000                    32.09600   \n",
       "25%              -0.067000                   298.34475   \n",
       "50%               1.288500                   700.44650   \n",
       "75%              14.408500                  2391.98575   \n",
       "max            3624.905000                172119.06200   \n",
       "\n",
       "       temperature_change_from_co2  \n",
       "count                   236.000000  \n",
       "mean                      0.025665  \n",
       "std                       0.105105  \n",
       "min                       0.000000  \n",
       "25%                       0.000000  \n",
       "50%                       0.001000  \n",
       "75%                       0.004000  \n",
       "max                       1.161000  "
      ]
     },
     "execution_count": 242,
     "metadata": {},
     "output_type": "execute_result"
    }
   ],
   "source": [
    "# Kiểm tra thông tin dữ liệu\n",
    "df_2023.info()\n",
    "df_2023[features].describe()"
   ]
  },
  {
   "cell_type": "code",
   "execution_count": 243,
   "id": "a0ea5be6-805a-4bb9-ace7-510484bef800",
   "metadata": {},
   "outputs": [
    {
     "data": {
      "text/plain": [
       "Description                      0\n",
       "Name                             0\n",
       "year                             0\n",
       "iso_code                        35\n",
       "population                      23\n",
       "gdp                            253\n",
       "co2                              7\n",
       "co2_per_capita                  72\n",
       "co2_per_gdp                    253\n",
       "co2_growth_abs                  18\n",
       "co2_growth_prct                 20\n",
       "cement_co2                      24\n",
       "coal_co2                        96\n",
       "flaring_co2                     17\n",
       "gas_co2                        104\n",
       "land_use_change_co2             39\n",
       "oil_co2                         20\n",
       "primary_energy_consumption     163\n",
       "temperature_change_from_co2     17\n",
       "co2_group                        0\n",
       "dtype: int64"
      ]
     },
     "execution_count": 243,
     "metadata": {},
     "output_type": "execute_result"
    }
   ],
   "source": [
    "# Kiểm tra missing values\n",
    "df_2023.isna().sum()"
   ]
  },
  {
   "cell_type": "code",
   "execution_count": 244,
   "id": "1ffeda7c-e5df-4e1e-87e0-50a42bb12223",
   "metadata": {},
   "outputs": [],
   "source": [
    "# Cập nhật lại danh sách features bỏ biến 'gdp' và 'co2_per_gdp'\n",
    "features = [\n",
    "    'population', 'co2_per_capita', 'cement_co2', 'coal_co2', 'oil_co2',\n",
    "    'gas_co2', 'flaring_co2', 'land_use_change_co2',\n",
    "    'primary_energy_consumption', 'temperature_change_from_co2'\n",
    "]"
   ]
  },
  {
   "cell_type": "code",
   "execution_count": 245,
   "id": "02d9a1aa-6b30-4871-8e18-3f588cc1a844",
   "metadata": {},
   "outputs": [],
   "source": [
    "# Define X and y\n",
    "X = df_2023[features].copy()   # Các biến đầu vào đã chọn\n",
    "y = df_2023['co2_group']       # 3 nhóm theo co2"
   ]
  },
  {
   "cell_type": "code",
   "execution_count": 246,
   "id": "0651377e-82f9-4d63-b749-c5e1242fdd5b",
   "metadata": {},
   "outputs": [],
   "source": [
    "# train-test split\n",
    "X_train, X_test, y_train, y_test = train_test_split(\n",
    "    X, y, test_size=0.2, random_state=42, stratify=y\n",
    ")"
   ]
  },
  {
   "cell_type": "markdown",
   "id": "85d84bc8-d63d-488f-9d76-f6c5a17a76d0",
   "metadata": {},
   "source": [
    "## Bước 4: Xây dựng mô hình và tối ưu tham số"
   ]
  },
  {
   "cell_type": "markdown",
   "id": "21f96837-4621-4b49-a5b7-7c40fa3b6228",
   "metadata": {},
   "source": [
    "### Nhiệm vụ 1: Mô hình Logistic Regression với GridSearchCV"
   ]
  },
  {
   "cell_type": "code",
   "execution_count": 247,
   "id": "0616f946-77a6-4aeb-b9eb-da1ae5046f18",
   "metadata": {},
   "outputs": [
    {
     "name": "stdout",
     "output_type": "stream",
     "text": [
      "=== Logistic Regression ===\n",
      "Best params: {'model__C': 1, 'model__solver': 'liblinear'}\n",
      "Accuracy: 0.803921568627451\n",
      "\n",
      "Classification Report:\n",
      "               precision    recall  f1-score   support\n",
      "\n",
      "           0       0.67      0.75      0.71        16\n",
      "           1       0.77      0.62      0.69        16\n",
      "           2       0.95      1.00      0.97        19\n",
      "\n",
      "    accuracy                           0.80        51\n",
      "   macro avg       0.80      0.79      0.79        51\n",
      "weighted avg       0.80      0.80      0.80        51\n",
      "\n"
     ]
    }
   ],
   "source": [
    "# Pipeline: Imputer + Scaler + Logistic Regression\n",
    "pipe = Pipeline([\n",
    "    (\"imputer\", SimpleImputer(strategy=\"mean\")),\n",
    "    (\"scaler\", StandardScaler()),\n",
    "    (\"model\", LogisticRegression(max_iter=2000))\n",
    "])\n",
    "\n",
    "param_grid_lr = {\n",
    "    \"model__C\": [0.01, 0.1, 1, 10],\n",
    "    \"model__solver\": [\"lbfgs\", \"liblinear\"]\n",
    "}\n",
    "\n",
    "grid_lr = GridSearchCV(pipe, param_grid_lr, cv=5, scoring=\"accuracy\", n_jobs=-1)\n",
    "grid_lr.fit(X_train, y_train)\n",
    "\n",
    "print(\"=== Logistic Regression ===\")\n",
    "print(\"Best params:\", grid_lr.best_params_)\n",
    "\n",
    "# Đánh giá mô hình\n",
    "y_pred_lr = grid_lr.predict(X_test)\n",
    "print(\"Accuracy:\", accuracy_score(y_test, y_pred_lr))\n",
    "print(\"\\nClassification Report:\\n\", classification_report(y_test, y_pred_lr))"
   ]
  },
  {
   "cell_type": "markdown",
   "id": "304bde5b-22e7-4080-a872-43945a143b03",
   "metadata": {},
   "source": [
    "### Nhiệm vụ 2: Tối ưu tham số cho mô hình cây quyết định bằng GridSearchCV và trực quan hóa hiệu quả mô hình"
   ]
  },
  {
   "cell_type": "code",
   "execution_count": 248,
   "id": "f3c8e269-975d-4733-a30d-5576e976f697",
   "metadata": {},
   "outputs": [
    {
     "name": "stdout",
     "output_type": "stream",
     "text": [
      "=== Decision Tree ===\n",
      "Best params: {'model__max_depth': 7}\n",
      "Train CV accuracy: 0.8720731707317073\n",
      "Test accuracy: 0.8431372549019608\n",
      "              precision    recall  f1-score   support\n",
      "\n",
      "           0       0.82      0.88      0.85        16\n",
      "           1       0.86      0.75      0.80        16\n",
      "           2       0.85      0.89      0.87        19\n",
      "\n",
      "    accuracy                           0.84        51\n",
      "   macro avg       0.84      0.84      0.84        51\n",
      "weighted avg       0.84      0.84      0.84        51\n",
      "\n"
     ]
    }
   ],
   "source": [
    "pipe_dt = Pipeline([\n",
    "    (\"imputer\", SimpleImputer(strategy=\"mean\")),\n",
    "    (\"scaler\", StandardScaler(with_mean=False)),\n",
    "    (\"model\", DecisionTreeClassifier(random_state=42))\n",
    "])\n",
    "\n",
    "param_dt = {\n",
    "    \"model__max_depth\": [3, 5, 7]\n",
    "}\n",
    "\n",
    "grid_dt = GridSearchCV(pipe_dt, param_dt, cv=5, scoring='accuracy')\n",
    "grid_dt.fit(X_train, y_train)\n",
    "\n",
    "print(\"=== Decision Tree ===\")\n",
    "print(\"Best params:\", grid_dt.best_params_)\n",
    "print(\"Train CV accuracy:\", grid_dt.best_score_)\n",
    "print(\"Test accuracy:\", grid_dt.score(X_test, y_test))\n",
    "print(classification_report(y_test, grid_dt.predict(X_test)))"
   ]
  },
  {
   "cell_type": "markdown",
   "id": "dd8c72b3-4691-4be9-b20d-c6f1838ed9ad",
   "metadata": {},
   "source": [
    " #### Vẽ biểu đồ đánh giá mô hình với các tham số chiều sâu của cây khác nhau"
   ]
  },
  {
   "cell_type": "code",
   "execution_count": 249,
   "id": "e03e4312-2ea9-465b-baf1-3f234fdbddd3",
   "metadata": {},
   "outputs": [
    {
     "data": {
      "text/html": [
       "<style>#sk-container-id-6 {color: black;}#sk-container-id-6 pre{padding: 0;}#sk-container-id-6 div.sk-toggleable {background-color: white;}#sk-container-id-6 label.sk-toggleable__label {cursor: pointer;display: block;width: 100%;margin-bottom: 0;padding: 0.3em;box-sizing: border-box;text-align: center;}#sk-container-id-6 label.sk-toggleable__label-arrow:before {content: \"▸\";float: left;margin-right: 0.25em;color: #696969;}#sk-container-id-6 label.sk-toggleable__label-arrow:hover:before {color: black;}#sk-container-id-6 div.sk-estimator:hover label.sk-toggleable__label-arrow:before {color: black;}#sk-container-id-6 div.sk-toggleable__content {max-height: 0;max-width: 0;overflow: hidden;text-align: left;background-color: #f0f8ff;}#sk-container-id-6 div.sk-toggleable__content pre {margin: 0.2em;color: black;border-radius: 0.25em;background-color: #f0f8ff;}#sk-container-id-6 input.sk-toggleable__control:checked~div.sk-toggleable__content {max-height: 200px;max-width: 100%;overflow: auto;}#sk-container-id-6 input.sk-toggleable__control:checked~label.sk-toggleable__label-arrow:before {content: \"▾\";}#sk-container-id-6 div.sk-estimator input.sk-toggleable__control:checked~label.sk-toggleable__label {background-color: #d4ebff;}#sk-container-id-6 div.sk-label input.sk-toggleable__control:checked~label.sk-toggleable__label {background-color: #d4ebff;}#sk-container-id-6 input.sk-hidden--visually {border: 0;clip: rect(1px 1px 1px 1px);clip: rect(1px, 1px, 1px, 1px);height: 1px;margin: -1px;overflow: hidden;padding: 0;position: absolute;width: 1px;}#sk-container-id-6 div.sk-estimator {font-family: monospace;background-color: #f0f8ff;border: 1px dotted black;border-radius: 0.25em;box-sizing: border-box;margin-bottom: 0.5em;}#sk-container-id-6 div.sk-estimator:hover {background-color: #d4ebff;}#sk-container-id-6 div.sk-parallel-item::after {content: \"\";width: 100%;border-bottom: 1px solid gray;flex-grow: 1;}#sk-container-id-6 div.sk-label:hover label.sk-toggleable__label {background-color: #d4ebff;}#sk-container-id-6 div.sk-serial::before {content: \"\";position: absolute;border-left: 1px solid gray;box-sizing: border-box;top: 0;bottom: 0;left: 50%;z-index: 0;}#sk-container-id-6 div.sk-serial {display: flex;flex-direction: column;align-items: center;background-color: white;padding-right: 0.2em;padding-left: 0.2em;position: relative;}#sk-container-id-6 div.sk-item {position: relative;z-index: 1;}#sk-container-id-6 div.sk-parallel {display: flex;align-items: stretch;justify-content: center;background-color: white;position: relative;}#sk-container-id-6 div.sk-item::before, #sk-container-id-6 div.sk-parallel-item::before {content: \"\";position: absolute;border-left: 1px solid gray;box-sizing: border-box;top: 0;bottom: 0;left: 50%;z-index: -1;}#sk-container-id-6 div.sk-parallel-item {display: flex;flex-direction: column;z-index: 1;position: relative;background-color: white;}#sk-container-id-6 div.sk-parallel-item:first-child::after {align-self: flex-end;width: 50%;}#sk-container-id-6 div.sk-parallel-item:last-child::after {align-self: flex-start;width: 50%;}#sk-container-id-6 div.sk-parallel-item:only-child::after {width: 0;}#sk-container-id-6 div.sk-dashed-wrapped {border: 1px dashed gray;margin: 0 0.4em 0.5em 0.4em;box-sizing: border-box;padding-bottom: 0.4em;background-color: white;}#sk-container-id-6 div.sk-label label {font-family: monospace;font-weight: bold;display: inline-block;line-height: 1.2em;}#sk-container-id-6 div.sk-label-container {text-align: center;}#sk-container-id-6 div.sk-container {/* jupyter's `normalize.less` sets `[hidden] { display: none; }` but bootstrap.min.css set `[hidden] { display: none !important; }` so we also need the `!important` here to be able to override the default hidden behavior on the sphinx rendered scikit-learn.org. See: https://github.com/scikit-learn/scikit-learn/issues/21755 */display: inline-block !important;position: relative;}#sk-container-id-6 div.sk-text-repr-fallback {display: none;}</style><div id=\"sk-container-id-6\" class=\"sk-top-container\"><div class=\"sk-text-repr-fallback\"><pre>GridSearchCV(cv=5, estimator=DecisionTreeClassifier(random_state=42), n_jobs=-1,\n",
       "             param_grid={&#x27;max_depth&#x27;: [3, 5, 7, 9, None]},\n",
       "             return_train_score=True, scoring=&#x27;accuracy&#x27;)</pre><b>In a Jupyter environment, please rerun this cell to show the HTML representation or trust the notebook. <br />On GitHub, the HTML representation is unable to render, please try loading this page with nbviewer.org.</b></div><div class=\"sk-container\" hidden><div class=\"sk-item sk-dashed-wrapped\"><div class=\"sk-label-container\"><div class=\"sk-label sk-toggleable\"><input class=\"sk-toggleable__control sk-hidden--visually\" id=\"sk-estimator-id-16\" type=\"checkbox\" ><label for=\"sk-estimator-id-16\" class=\"sk-toggleable__label sk-toggleable__label-arrow\">GridSearchCV</label><div class=\"sk-toggleable__content\"><pre>GridSearchCV(cv=5, estimator=DecisionTreeClassifier(random_state=42), n_jobs=-1,\n",
       "             param_grid={&#x27;max_depth&#x27;: [3, 5, 7, 9, None]},\n",
       "             return_train_score=True, scoring=&#x27;accuracy&#x27;)</pre></div></div></div><div class=\"sk-parallel\"><div class=\"sk-parallel-item\"><div class=\"sk-item\"><div class=\"sk-label-container\"><div class=\"sk-label sk-toggleable\"><input class=\"sk-toggleable__control sk-hidden--visually\" id=\"sk-estimator-id-17\" type=\"checkbox\" ><label for=\"sk-estimator-id-17\" class=\"sk-toggleable__label sk-toggleable__label-arrow\">estimator: DecisionTreeClassifier</label><div class=\"sk-toggleable__content\"><pre>DecisionTreeClassifier(random_state=42)</pre></div></div></div><div class=\"sk-serial\"><div class=\"sk-item\"><div class=\"sk-estimator sk-toggleable\"><input class=\"sk-toggleable__control sk-hidden--visually\" id=\"sk-estimator-id-18\" type=\"checkbox\" ><label for=\"sk-estimator-id-18\" class=\"sk-toggleable__label sk-toggleable__label-arrow\">DecisionTreeClassifier</label><div class=\"sk-toggleable__content\"><pre>DecisionTreeClassifier(random_state=42)</pre></div></div></div></div></div></div></div></div></div></div>"
      ],
      "text/plain": [
       "GridSearchCV(cv=5, estimator=DecisionTreeClassifier(random_state=42), n_jobs=-1,\n",
       "             param_grid={'max_depth': [3, 5, 7, 9, None]},\n",
       "             return_train_score=True, scoring='accuracy')"
      ]
     },
     "execution_count": 249,
     "metadata": {},
     "output_type": "execute_result"
    }
   ],
   "source": [
    "param_grid_dt = {\n",
    "    'max_depth': [3, 5, 7, 9, None]\n",
    "}\n",
    "\n",
    "grid_dt = GridSearchCV(\n",
    "    DecisionTreeClassifier(random_state=42),\n",
    "    param_grid_dt,\n",
    "    cv=5,\n",
    "    scoring='accuracy',\n",
    "    n_jobs=-1,\n",
    "    return_train_score=True\n",
    ")\n",
    "\n",
    "grid_dt.fit(X_train, y_train)"
   ]
  },
  {
   "cell_type": "code",
   "execution_count": 250,
   "id": "e0120e78-f3b3-4611-8599-68fbb48c6622",
   "metadata": {},
   "outputs": [
    {
     "data": {
      "image/png": "[encoded data removed]",
      "text/plain": [
       "<Figure size 700x500 with 1 Axes>"
      ]
     },
     "metadata": {},
     "output_type": "display_data"
    }
   ],
   "source": [
    "import matplotlib.pyplot as plt\n",
    "import pandas as pd\n",
    "\n",
    "results_dt = pd.DataFrame(grid_dt.cv_results_)\n",
    "\n",
    "# Chuyển None → số để hiển thị rõ trên trục\n",
    "results_dt['param_max_depth_plot'] = results_dt['param_max_depth'].apply(lambda x: 12 if x is None else x)\n",
    "\n",
    "plt.figure(figsize=(7,5))\n",
    "plt.plot(results_dt['param_max_depth_plot'], results_dt['mean_train_score'], marker='o', linestyle='--', label='Train Accuracy')\n",
    "plt.plot(results_dt['param_max_depth_plot'], results_dt['mean_test_score'], marker='o', linestyle='-', label='Test Accuracy')\n",
    "plt.xlabel(\"max_depth\")\n",
    "plt.ylabel(\"Accuracy\")\n",
    "plt.title(\"Decision Tree: Train vs Test Accuracy for max_depth\")\n",
    "plt.grid(True, linestyle='--', alpha=0.5)\n",
    "plt.legend()\n",
    "plt.show()"
   ]
  },
  {
   "cell_type": "markdown",
   "id": "a309c7c2-30a3-4e54-a740-94642c1b31e4",
   "metadata": {},
   "source": [
    "### Nhiệm vụ 3: Xây dựng rừng cây (random forest)"
   ]
  },
  {
   "cell_type": "code",
   "execution_count": 251,
   "id": "5de5a109-a060-4adb-82d1-3198aac4ad9f",
   "metadata": {},
   "outputs": [],
   "source": [
    "from sklearn.ensemble import RandomForestClassifier\n",
    "from sklearn.metrics import classification_report, accuracy_score\n",
    "from sklearn.model_selection import GridSearchCV\n",
    "import pandas as pd\n",
    "import matplotlib.pyplot as plt\n",
    "import numpy as np\n",
    "import seaborn as sns"
   ]
  },
  {
   "cell_type": "code",
   "execution_count": 252,
   "id": "b74f0410-352b-44c8-895e-783b7ac5adca",
   "metadata": {},
   "outputs": [],
   "source": [
    "pipeline_rf = Pipeline([\n",
    "    ('imputer', SimpleImputer(strategy='median')),  # xử lý missing values\n",
    "    ('rf', RandomForestClassifier(random_state=42))\n",
    "])"
   ]
  },
  {
   "cell_type": "code",
   "execution_count": 253,
   "id": "c2b4f896-ebba-4085-85ea-5c7442882512",
   "metadata": {},
   "outputs": [],
   "source": [
    "param_grid_rf = {\n",
    "    'rf__n_estimators': [50, 100, 200],\n",
    "    'rf__max_depth': [3, 5, 7, None],\n",
    "    'rf__min_samples_split': [2, 5, 10],\n",
    "    'rf__min_samples_leaf': [1, 2, 4]\n",
    "}"
   ]
  },
  {
   "cell_type": "code",
   "execution_count": 254,
   "id": "c5f8a6ed-1553-4b17-a7cf-063ac4922254",
   "metadata": {},
   "outputs": [
    {
     "name": "stdout",
     "output_type": "stream",
     "text": [
      "=== Random Forest ===\n",
      "Best params: {'rf__max_depth': 7, 'rf__min_samples_leaf': 4, 'rf__min_samples_split': 10, 'rf__n_estimators': 50}\n",
      "Best CV Accuracy: 0.9209756097560977\n",
      "\n",
      "Test Accuracy: 0.9019607843137255\n",
      "\n",
      "Classification report:\n",
      "               precision    recall  f1-score   support\n",
      "\n",
      "           0       0.88      0.88      0.88        16\n",
      "           1       0.88      0.88      0.88        16\n",
      "           2       0.95      0.95      0.95        19\n",
      "\n",
      "    accuracy                           0.90        51\n",
      "   macro avg       0.90      0.90      0.90        51\n",
      "weighted avg       0.90      0.90      0.90        51\n",
      "\n"
     ]
    }
   ],
   "source": [
    "grid_rf = GridSearchCV(\n",
    "    pipeline_rf, param_grid_rf,\n",
    "    cv=5,\n",
    "    scoring='accuracy',\n",
    "    n_jobs=-1,\n",
    "    return_train_score=True\n",
    ")\n",
    "\n",
    "grid_rf.fit(X_train, y_train)\n",
    "\n",
    "print(\"=== Random Forest ===\")\n",
    "print(\"Best params:\", grid_rf.best_params_)\n",
    "print(\"Best CV Accuracy:\", grid_rf.best_score_)\n",
    "\n",
    "y_pred_rf = grid_rf.predict(X_test)\n",
    "test_acc = accuracy_score(y_test, y_pred_rf)\n",
    "print(\"\\nTest Accuracy:\", test_acc)\n",
    "print(\"\\nClassification report:\\n\", classification_report(y_test, y_pred_rf))"
   ]
  },
  {
   "cell_type": "markdown",
   "id": "35055e64-7540-4dd8-927c-64d7b418d76d",
   "metadata": {},
   "source": [
    "#### Vẽ biểu đồ đánh giá mô hình rừng cây với các tham số số cây có trong rừng khác nhau"
   ]
  },
  {
   "cell_type": "code",
   "execution_count": 255,
   "id": "9c6585e5-2731-401b-9de4-32634084dbdf",
   "metadata": {},
   "outputs": [],
   "source": [
    "# Plot: Fit Time vs n_estimators \n",
    "cv_results_df = pd.DataFrame(grid_rf.cv_results_)"
   ]
  },
  {
   "cell_type": "code",
   "execution_count": 256,
   "id": "c1d682b4-c859-497c-929c-cc45cf6e3003",
   "metadata": {},
   "outputs": [
    {
     "data": {
      "image/png": "[encoded data removed]",
      "text/plain": [
       "<Figure size 1200x400 with 2 Axes>"
      ]
     },
     "metadata": {},
     "output_type": "display_data"
    }
   ],
   "source": [
    "summary = cv_results_df.groupby('param_rf__n_estimators').agg(\n",
    "    mean_test_score=('mean_test_score', 'mean'),\n",
    "    std_test_score=('std_test_score', 'mean'),\n",
    "    mean_fit_time=('mean_fit_time', 'mean')\n",
    ").reset_index()\n",
    "\n",
    "fig, axs = plt.subplots(1, 2, figsize=(12,4))\n",
    "\n",
    "# Màu riêng cho từng biểu đồ\n",
    "color_fit_time = 'tab:blue'\n",
    "color_accuracy = 'tab:orange'\n",
    "\n",
    "# Biểu đồ Training Time\n",
    "axs[0].plot(\n",
    "    summary['param_rf__n_estimators'],\n",
    "    summary['mean_fit_time'],\n",
    "    '-o',\n",
    "    color=color_fit_time,\n",
    "    label='Mean Fit Time'\n",
    ")\n",
    "axs[0].set_xlabel('Number of Trees')\n",
    "axs[0].set_ylabel('Mean Fit Time (s)')\n",
    "axs[0].set_title('Training Time vs Number of Trees')\n",
    "axs[0].grid(linestyle='--', alpha=0.5)\n",
    "\n",
    "# Biểu đồ Accuracy\n",
    "axs[1].errorbar(\n",
    "    summary['param_rf__n_estimators'],\n",
    "    summary['mean_test_score'],\n",
    "    yerr=summary['std_test_score']/np.sqrt(5),\n",
    "    fmt='-o',\n",
    "    capsize=4,\n",
    "    color=color_accuracy,\n",
    "    label='Mean CV Accuracy'\n",
    ")\n",
    "axs[1].set_xlabel('Number of Trees')\n",
    "axs[1].set_ylabel('Mean CV Accuracy ± 1 SE')\n",
    "axs[1].set_title('CV Accuracy vs Number of Trees')\n",
    "axs[1].grid(linestyle='--', alpha=0.5)\n",
    "\n",
    "plt.tight_layout()\n",
    "plt.show()"
   ]
  },
  {
   "cell_type": "markdown",
   "id": "3b1ef5da-8331-4c31-b80c-22f26793992f",
   "metadata": {},
   "source": [
    "### Bước 5: Xác định các đặc trưng quan trọng (feature importance)\n",
    "Xem tham số tốt nhất của rừng cây, xem mức độ quan trọng của từng feature trong mô hình với tham số tốt nhất"
   ]
  },
  {
   "cell_type": "code",
   "execution_count": 257,
   "id": "c49ddb37-9adc-4fb7-8fd9-e67ba3fb1634",
   "metadata": {},
   "outputs": [
    {
     "name": "stdout",
     "output_type": "stream",
     "text": [
      "                       Feature  Importance\n",
      "4                      oil_co2    0.306662\n",
      "5                      gas_co2    0.186978\n",
      "2                   cement_co2    0.158117\n",
      "9  temperature_change_from_co2    0.101997\n",
      "3                     coal_co2    0.076968\n",
      "0                   population    0.066983\n",
      "7          land_use_change_co2    0.042806\n",
      "6                  flaring_co2    0.029661\n",
      "8   primary_energy_consumption    0.021572\n",
      "1               co2_per_capita    0.008256\n"
     ]
    }
   ],
   "source": [
    "# Extract best model from pipeline\n",
    "rf_best = grid_rf.best_estimator_.named_steps['rf']\n",
    "\n",
    "# Feature Importance DataFrame\n",
    "feature_importance = pd.DataFrame({\n",
    "    'Feature': X_train.columns,\n",
    "    'Importance': rf_best.feature_importances_\n",
    "}).sort_values(by='Importance', ascending=False)\n",
    "\n",
    "print(feature_importance)"
   ]
  },
  {
   "cell_type": "code",
   "execution_count": 258,
   "id": "c14cf768-a95c-492d-b7a0-aa6785dd438e",
   "metadata": {},
   "outputs": [],
   "source": [
    "# Lấy số lượng feature\n",
    "n_features = len(feature_importance)"
   ]
  },
  {
   "cell_type": "code",
   "execution_count": 259,
   "id": "f75d610d-80b5-4afc-b0c3-ce39869d0644",
   "metadata": {},
   "outputs": [
    {
     "data": {
      "image/png": "[encoded data removed]",
      "text/plain": [
       "<Figure size 1000x600 with 1 Axes>"
      ]
     },
     "metadata": {},
     "output_type": "display_data"
    }
   ],
   "source": [
    "# Tạo màu gradient với seaborn\n",
    "colors = sns.color_palette(\"viridis\", n_colors=n_features)\n",
    "\n",
    "# Vẽ biểu đồ nhiều màu\n",
    "plt.figure(figsize=(10,6))\n",
    "plt.barh(\n",
    "    feature_importance['Feature'],\n",
    "    feature_importance['Importance'],\n",
    "    color=colors\n",
    ")\n",
    "plt.gca().invert_yaxis()  # Biến quan trọng nhất lên trên\n",
    "plt.xlabel(\"Importance\")\n",
    "plt.ylabel(\"Feature\")\n",
    "plt.title(\"Feature Importance - Random Forest\")\n",
    "plt.tight_layout()\n",
    "plt.show()"
   ]
  },
  {
   "cell_type": "markdown",
   "id": "ea134769-ec4f-4c77-a9ab-6f7177b73be0",
   "metadata": {},
   "source": [
    "# Kết thúc"
   ]
  }
 ],
 "metadata": {
  "kernelspec": {
   "display_name": "Python [conda env:ml]",
   "language": "python",
   "name": "conda-env-ml-py"
  },
  "language_info": {
   "codemirror_mode": {
    "name": "ipython",
    "version": 3
   },
   "file_extension": ".py",
   "mimetype": "text/x-python",
   "name": "python",
   "nbconvert_exporter": "python",
   "pygments_lexer": "ipython3",
   "version": "3.11.13"
  }
 },
 "nbformat": 4,
 "nbformat_minor": 5
}
